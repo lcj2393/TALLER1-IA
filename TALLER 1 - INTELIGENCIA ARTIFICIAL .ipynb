{
 "cells": [
  {
   "cell_type": "code",
   "execution_count": 19,
   "metadata": {},
   "outputs": [
    {
     "name": "stdout",
     "output_type": "stream",
     "text": [
      "VALORES ALMACENADOS ESTATICAMENTE\n",
      "[1, 12, 5, 8, 1, 6, 3, 9, 1, 7, 15, 11, 1, 13, 5, 6]\n",
      "\n",
      "Total Valores Almacenados:  16\n",
      "\n",
      "Mediana: 6\n",
      "Moda: [1]\n",
      "Promedio:  6.5\n",
      "Varianza:  19.5\n",
      "Covarianza:  4.560701700396552\n"
     ]
    }
   ],
   "source": [
    "#CALCULO DE MEDIA, MODA, PROMEDIO, VARIANZA Y COVARIANZA  \n",
    "\n",
    "import statistics as stats\n",
    "\n",
    "print (\"VALORES ALMACENADOS ESTATICAMENTE\")\n",
    "valores = [1, 12, 5, 8, 1, 6, 3, 9, 1, 7, 15, 11, 1, 13, 5, 6] \n",
    "                                                                                         \n",
    "print (valores)   \n",
    "print (\"\")\n",
    "\n",
    "# Calculo de Moda \n",
    "def calculoModa(): \n",
    "    nDatos = 0 \n",
    "    for i in valores:                                                                              \n",
    "        nNuevo = valores.count(i)                                                             \n",
    "        if nNuevo > nDatos:                                                       \n",
    "            nDatos = nNuevo                                                                                                                               \n",
    "    modas = []                                                                               \n",
    "    for i in valores:                                                                              \n",
    "        nNuevo = valores.count(i)                                                             \n",
    "        if nNuevo == nDatos and i not in modas:                                   \n",
    "            modas.append(i)\n",
    "            return modas\n",
    "\n",
    "# Calculo de Mediana                                                                                \n",
    "def calculoMediana():\n",
    "    valores.sort()                                                                            \n",
    "    if len(valores) % 2 == 0:                                                                      \n",
    "        n = len(valores)                                                                           \n",
    "        mediana = (valores[n//2-1]+ valores[n//2] )//2                                                      \n",
    "    else:                                                                                    \n",
    "        mediana =valores[len(valores)//2]\n",
    "    return mediana\n",
    "\n",
    "#Calculo de Promedio\n",
    "def calculoPromedio():\n",
    "    promedio = sum(valores)/len(valores)\n",
    "    return promedio\n",
    "\n",
    "#Calculo de Varianza\n",
    "def calculoVarianza():\n",
    "    var=(stats.pvariance(valores))\n",
    "    return var\n",
    "\n",
    "#Calculo de Covarianza\n",
    "def calculoCovarianza():\n",
    "    covar=(stats.stdev(valores))\n",
    "    return covar\n",
    "\n",
    "tDatos=len(valores) \n",
    "print (\"Total Valores Almacenados: \", tDatos)\n",
    "print (\"\")\n",
    "\n",
    "print ('Mediana:' ,calculoMediana()) \n",
    "print ('Moda:' ,calculoModa())\n",
    "print (\"Promedio: \", calculoPromedio()) \n",
    "print (\"Varianza: \", calculoVarianza())\n",
    "print (\"Covarianza: \", calculoCovarianza())"
   ]
  },
  {
   "cell_type": "code",
   "execution_count": null,
   "metadata": {},
   "outputs": [],
   "source": []
  }
 ],
 "metadata": {
  "kernelspec": {
   "display_name": "Python 3",
   "language": "python",
   "name": "python3"
  },
  "language_info": {
   "codemirror_mode": {
    "name": "ipython",
    "version": 3
   },
   "file_extension": ".py",
   "mimetype": "text/x-python",
   "name": "python",
   "nbconvert_exporter": "python",
   "pygments_lexer": "ipython3",
   "version": "3.6.4"
  }
 },
 "nbformat": 4,
 "nbformat_minor": 2
}
